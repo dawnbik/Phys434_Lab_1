{
 "cells": [
  {
   "cell_type": "markdown",
   "id": "6ae1cc0f",
   "metadata": {},
   "source": [
    "# Lab 2 Template\n",
    "\n",
    "**Author:** [YOURNAME]\n",
    "\n",
    "**Course:** Physics 434 - Data Analysis Lab  \n",
    "\n",
    "In this laboratory we will practice more about Variable of Transformation and Probability Distribution functions. \n",
    "\n",
    "## Instruction: Numpy random seed\n",
    "\n",
    "Sometimes it's useful to have a reproducible random series for checking results. To do this, the easiest way is to set the seeding of a random number generator. For `Numpy`,\n",
    "\n",
    "```python\n",
    "import numpy as np\n",
    "np.random.seed(42)\n",
    "```\n",
    "\n",
    "This makes the random numbers predictable and helps with checking results."
   ]
  },
  {
   "cell_type": "markdown",
   "id": "75f0ea52",
   "metadata": {},
   "source": [
    "## Import Libraries\n",
    "\n",
    "**TODO:** Import necessary libraries for this lab."
   ]
  },
  {
   "cell_type": "code",
   "execution_count": 1,
   "id": "d63e0f3f",
   "metadata": {},
   "outputs": [],
   "source": [
    "# TODO: Import numpy, matplotlib.pyplot, scipy.stats, and any other necessary libraries\n",
    "# Set numpy random seed for reproducibility\n",
    "import numpy as np\n",
    "np.random.seed(25)"
   ]
  },
  {
   "cell_type": "markdown",
   "id": "3fcbcbb6",
   "metadata": {},
   "source": [
    "# Variable of Transformation (3 points)\n",
    "\n",
    "For a random distribution of x between 0 and 1. With variable of transformation $u=f(x)$, we can calculate the probability density function $g(u)$ using analytic method. In this assignment, we will draw a random sample from the uniform distribution, apply a transformation to each data point, and check the consistency of transformed distributions with the analytic prediction.\n",
    "\n",
    "## Part 1: Transformation $u = x^2$"
   ]
  },
  {
   "cell_type": "markdown",
   "id": "213508f0",
   "metadata": {},
   "source": [
    "**TODO:** Complete the following steps:\n",
    "\n",
    "1. Draw a 1000 events sample $x_i, i=0,1,...999$ using built-in distributions in scipy with Uniform density between 0 and 1.\n",
    "2. For each value of $x_i$, calculate the transformed value $u = x^2$.\n",
    "3. Draw the $u_i$ distribution. Plot the analytic solution g(u) in the same plot and compare the consistency.\n",
    "4. Show details about how you derive $g(u)$ analytically."
   ]
  },
  {
   "cell_type": "code",
   "execution_count": 2,
   "id": "7c25058f-965b-4456-8e66-8a373b0afce8",
   "metadata": {},
   "outputs": [],
   "source": [
    "import matplotlib.pyplot as plt"
   ]
  },
  {
   "cell_type": "code",
   "execution_count": 25,
   "id": "c10a6ee4",
   "metadata": {},
   "outputs": [
    {
     "name": "stderr",
     "output_type": "stream",
     "text": [
      "/var/folders/vb/dh0kj6sn5vzfg90lbgjx87wr0000gn/T/ipykernel_31808/924413085.py:12: RuntimeWarning: divide by zero encountered in divide\n",
      "  gg = 1/ (2 * np.sqrt(dummyx)) # our g(u)\n"
     ]
    },
    {
     "data": {
      "image/png": "[encoded data removed]",
      "text/plain": [
       "<Figure size 1000x600 with 1 Axes>"
      ]
     },
     "metadata": {},
     "output_type": "display_data"
    }
   ],
   "source": [
    "# TODO: Step 1 - Generate 1000 uniform random samples between 0 and 1\n",
    "# Use scipy.stats.uniform or numpy.random.uniform\n",
    "\n",
    "xx = np.random.uniform(0, 1, 1000) # this is our x\n",
    "\n",
    "# TODO: Step 2 - Apply transformation u = x^2\n",
    "uu = xx**2 # this is our u(x)\n",
    "\n",
    "# TODO: Step 3 - Plot histogram of transformed values\n",
    "# Also plot the analytical solution g(u) (worked out in the markdown cell below)\n",
    "dummyx = np.linspace(0,1,1000)\n",
    "gg = 1/ (2 * np.sqrt(dummyx)) # our g(u)\n",
    "\n",
    "# Create figure\n",
    "nBins = 15\n",
    "\n",
    "fig, ax = plt.subplots(figsize=(10, 6))\n",
    "ax.hist(uu, bins=nBins, density=True, label='u')\n",
    "ax.set_title(f\"Histogram of Transformed Variable u overlaid with g(u)\")\n",
    "ax.plot(dummyx, gg, label='g(u)')\n",
    "ax.legend()\n",
    "plt.show()\n",
    "# TODO: Step 4 - Add text explaining the analytical derivation\n",
    "# For u = x^2, with x ~ Uniform(0,1), derive g(u)\n",
    "# - SEE MARKDOWN CELL BELOW -"
   ]
  },
  {
   "cell_type": "markdown",
   "id": "ea4fe5a2-a7ac-4e5d-88f4-f5730825162a",
   "metadata": {},
   "source": [
    "for $u = x^2 = f(x)$ where $0 \\le x \\le 1$ -> f(x) is monotonic (increasing) -> can use Z&B eq 3.29\n",
    "\n",
    "~~$g(u) = \\int_{0}^{u}{g(u')du'} = \\int_{0}^{x}{f(x')dx'}$~~\n",
    "\n",
    "$g(u) = f(x)|\\frac{dx}{du}|$ (eq 3.29)\n",
    "\n",
    "invert u(x) to get x(u) and differentiate x(u) = sqrt(u) -> $\\frac{dx}{du}=\\frac{1}{2\\sqrt{u}}$\n",
    "\n",
    "f(x) is 1 (uniform distribution) -> $g(u) = 1\\cdot\\frac{1}{2\\sqrt{u}} = \\frac{1}{2\\sqrt{u}}$"
   ]
  },
  {
   "cell_type": "markdown",
   "id": "6cf06227",
   "metadata": {},
   "source": [
    "## Part 2: Additional Transformation\n",
    "\n",
    "**TODO:** Repeat the analysis with one of the following transformations:\n",
    "- a. $u = 1/x$\n",
    "- b. $u = \\sqrt{x}$\n",
    "- c. $u = e^x$\n",
    "- d. $u = \\log(x)$\n",
    "\n",
    "Choose one transformation and complete the same analysis as Part 1."
   ]
  },
  {
   "cell_type": "code",
   "execution_count": null,
   "id": "f9e5b2ac",
   "metadata": {},
   "outputs": [],
   "source": [
    "# TODO: Choose one transformation function and repeat the analysis\n",
    "# 1. Apply the chosen transformation to the uniform samples\n",
    "# 2. Plot histogram of transformed values\n",
    "# 3. Derive and plot the analytical solution on the same graph\n",
    "# 4. Compare simulation with analytical prediction"
   ]
  },
  {
   "cell_type": "markdown",
   "id": "bffc6bf6",
   "metadata": {},
   "source": [
    "# Throwing two dices (3 points)\n",
    "\n",
    "We can simulate a fair dice by drawing a random uniform distribution of x between 0 and 1. There are multiple ways to do so, e.g. multiply a random number x by 6, take the integer part of the number and add it by one ($[0, 1] \\rightarrow [0, 5] \\rightarrow [1, 6]$), or use `numpy.random.uniform()`. This number represents the face of the dice. We can repeat this procedure to simulate rolling the dice N times."
   ]
  },
  {
   "cell_type": "markdown",
   "id": "191aa167",
   "metadata": {},
   "source": [
    "**TODO:** Complete the following steps:\n",
    "\n",
    "1. Simulate a pair of dices N=1000 times.\n",
    "2. Calculate the sum of each pair.\n",
    "3. Draw the distribution of the sum.\n",
    "4. Calculate mean and variance of the distribution of the Sum.\n",
    "5. Calculate the probability of Sevens (i.e. sum of two dices equals to 7) by taking the ratio of this number of Sevens to 1000. Evaluate the statistical uncertainty of the probability (assuming Binomial errors).\n",
    "6. Compare the probability of Sevens from Step 5 to the analytic calculation based on the homework method. Discuss consistency between the simulation and analytical calculation."
   ]
  },
  {
   "cell_type": "code",
   "execution_count": null,
   "id": "72aab58a",
   "metadata": {},
   "outputs": [],
   "source": [
    "# TODO: Step 1 - Simulate throwing two dice N=1000 times\n",
    "# Use numpy.random.randint(1, 7, size=(1000, 2)) or equivalent method\n",
    "\n",
    "# TODO: Step 2 - Calculate sum of each pair\n",
    "\n",
    "# TODO: Step 3 - Plot distribution of sums\n",
    "\n",
    "# TODO: Step 4 - Calculate mean and variance\n",
    "\n",
    "# TODO: Step 5 - Calculate probability of sevens and statistical uncertainty\n",
    "\n",
    "# TODO: Step 6 - Compare with analytical calculation (1/6 probability) on a histogram plot"
   ]
  },
  {
   "cell_type": "markdown",
   "id": "15453ff7",
   "metadata": {},
   "source": [
    "# Central Limit Theorem (4 points)\n",
    "\n",
    "The central limit theorem states that the distribution of the sample mean $\\bar{x}$, \n",
    "$\\bar{x} = \\frac{1}{N} \\sum_{i=1}^{N} x_i$,\n",
    "of N variables $x_i$ with finite variance $\\sigma^2$ in the limit $N\\to \\infty$ will approach a normal distribution with variance $\\sigma^2/N$ independent of the form of the distribution f(x). In this computational experiment, we will test this theorem.\n",
    "\n",
    "Generate a M=5 event sample using built-in Poisson distributions in scipy with $\\lambda=2.0$. From these 5 events, calculate mean $\\mu_5$ and standard deviation $\\sigma_5$. Repeat this process N times. For each time, you will draw different set of M=5 events, and calculate independent $\\mu_5$ and $\\sigma_5$, respectively."
   ]
  },
  {
   "cell_type": "markdown",
   "id": "09db5496",
   "metadata": {},
   "source": [
    "## Part 1: N=10 samples"
   ]
  },
  {
   "cell_type": "code",
   "execution_count": null,
   "id": "d2e3c327",
   "metadata": {},
   "outputs": [],
   "source": [
    "# TODO: Let N=10. Generate N sets of M=5 Poisson samples with lambda=2.0\n",
    "# Calculate mu_5 and sigma_5 for each set\n",
    "# Plot distributions of mu_5 and sigma_5\n",
    "# Include mean and variance in the legend"
   ]
  },
  {
   "cell_type": "markdown",
   "id": "6751e68a",
   "metadata": {},
   "source": [
    "## Part 2: N=100 samples"
   ]
  },
  {
   "cell_type": "code",
   "execution_count": null,
   "id": "44bdf0e7",
   "metadata": {},
   "outputs": [],
   "source": [
    "# TODO: Let N=100. Repeat the same analysis as Part 1"
   ]
  },
  {
   "cell_type": "markdown",
   "id": "f82cace2",
   "metadata": {},
   "source": [
    "## Part 3: N=1000 samples"
   ]
  },
  {
   "cell_type": "code",
   "execution_count": null,
   "id": "b23cd929",
   "metadata": {},
   "outputs": [],
   "source": [
    "# TODO: Let N=1000. Repeat the same analysis"
   ]
  },
  {
   "cell_type": "markdown",
   "id": "7ea1208b",
   "metadata": {},
   "source": [
    "## Part 4: Discussion\n",
    "\n",
    "**TODO:** Discuss your observations:\n",
    "- a. Does $\\mu_5$ and $\\sigma_5$ approach Normal distributions when N is approaching a larger number?\n",
    "- b. Is the variance of $\\mu_5$ and $\\sigma_5$ following some scaling rule as function of N?"
   ]
  },
  {
   "cell_type": "markdown",
   "id": "1b985543",
   "metadata": {},
   "source": [
    "*TODO: Write your discussion here*"
   ]
  },
  {
   "cell_type": "markdown",
   "id": "f926e0cf",
   "metadata": {},
   "source": [
    "## Part 5: M=100 events"
   ]
  },
  {
   "cell_type": "code",
   "execution_count": null,
   "id": "449d0dd8",
   "metadata": {},
   "outputs": [],
   "source": [
    "# TODO: Fix N=1000, plot distribution of mu_100 and sigma_100\n",
    "# which are mean and standard deviation of a sample of M=100 events with lambda=2.0\n",
    "# Discuss your observation"
   ]
  },
  {
   "cell_type": "markdown",
   "id": "5be011e2",
   "metadata": {},
   "source": [
    "# Bonus (+3 points)\n",
    "\n",
    "Generate 1000 samples. Each sample is a 100 event dataset using one built-in distribution in scipy but not Binomial, Normal nor Poisson. Show that the mean and variance of these 1000 samples also behave like a Normal Distribution."
   ]
  },
  {
   "cell_type": "code",
   "execution_count": null,
   "id": "5a15c0a5",
   "metadata": {},
   "outputs": [],
   "source": [
    "# TODO: Choose a distribution (e.g., exponential, gamma, beta, etc.)\n",
    "# Generate 1000 samples of 100 events each\n",
    "# Calculate mean and variance for each sample\n",
    "# Show that the distributions of means and variances approach Normal"
   ]
  },
  {
   "cell_type": "markdown",
   "id": "64ed33ba",
   "metadata": {},
   "source": [
    "## Summary and Reflection\n",
    "\n",
    "**TODO:** Reflect on your laboratory experience by discussing these 3 key takeaways:\n",
    "\n",
    "### 1. Variable Transformations and Analytical Validation\n",
    "Discuss how well your simulated distributions matched the analytical probability density functions you derived. What did this teach you about the relationship between mathematical transformations and probability distributions? Comment on the importance of being able to validate simulations with analytical solutions.\n",
    "\n",
    "### 2. Monte Carlo Methods and Statistical Uncertainty\n",
    "Based on your dice simulation results, evaluate the reliability of Monte Carlo methods for estimating probabilities. How did your simulated probability of sevens compare to the theoretical 1/6, and what role did statistical uncertainty play in validating your results?\n",
    "\n",
    "### 3. Central Limit Theorem Universality\n",
    "Describe your observations of how sample means approached normal distributions as sample size increased, regardless of the underlying distribution (Poisson, and your bonus distribution if completed). What does this reveal about the power and universality of the Central Limit Theorem in statistical analysis?"
   ]
  },
  {
   "cell_type": "markdown",
   "id": "19ca3b6d",
   "metadata": {},
   "source": [
    "\n",
    "> **📋 Important Notice:** When you have completed all sections of this lab, please download your notebook as an HTML file for submission on Canvas.\n",
    "> \n",
    "> **To download as HTML:**\n",
    "> 1. Go to **File** → **Download as** → **HTML (.html)**\n",
    "> 2. Save the file with a descriptive name (e.g., `Lab2_YourName.html`)\n",
    "> 3. Upload the HTML file to the corresponding Canvas assignment\n",
    "> \n",
    "> Make sure all cells have been executed and all outputs are visible before downloading!"
   ]
  },
  {
   "cell_type": "markdown",
   "id": "c73ba704",
   "metadata": {},
   "source": []
  }
 ],
 "metadata": {
  "kernelspec": {
   "display_name": "Python 3 (ipykernel)",
   "language": "python",
   "name": "python3"
  },
  "language_info": {
   "codemirror_mode": {
    "name": "ipython",
    "version": 3
   },
   "file_extension": ".py",
   "mimetype": "text/x-python",
   "name": "python",
   "nbconvert_exporter": "python",
   "pygments_lexer": "ipython3",
   "version": "3.11.5"
  }
 },
 "nbformat": 4,
 "nbformat_minor": 5
}
